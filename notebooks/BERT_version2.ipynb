{
 "cells": [
  {
   "cell_type": "code",
   "execution_count": 1,
   "metadata": {},
   "outputs": [
    {
     "name": "stderr",
     "output_type": "stream",
     "text": [
      "d:\\workspace\\on-campus\\data_initiative\\task2\\.venv\\Lib\\site-packages\\tqdm\\auto.py:21: TqdmWarning: IProgress not found. Please update jupyter and ipywidgets. See https://ipywidgets.readthedocs.io/en/stable/user_install.html\n",
      "  from .autonotebook import tqdm as notebook_tqdm\n"
     ]
    }
   ],
   "source": [
    "from transformers import BertTokenizer, BertModel\n",
    "import torch\n",
    "import ast\n",
    "import numpy as np\n",
    "import pandas as pd\n",
    "from sklearn.metrics import precision_score, recall_score, f1_score, accuracy_score, roc_auc_score\n",
    "from sklearn.metrics.pairwise import cosine_similarity\n"
   ]
  },
  {
   "cell_type": "code",
   "execution_count": 2,
   "metadata": {},
   "outputs": [],
   "source": [
    "# Initialize BERT tokenizer and model\n",
    "tokenizer = BertTokenizer.from_pretrained('bert-base-uncased')\n",
    "model = BertModel.from_pretrained('bert-base-uncased')"
   ]
  },
  {
   "cell_type": "code",
   "execution_count": 3,
   "metadata": {},
   "outputs": [
    {
     "data": {
      "text/plain": [
       "(150, 5)"
      ]
     },
     "execution_count": 3,
     "metadata": {},
     "output_type": "execute_result"
    }
   ],
   "source": [
    "df = pd.read_excel('data/long_form_data1.xlsx')\n",
    "df.shape"
   ]
  },
  {
   "cell_type": "code",
   "execution_count": 4,
   "metadata": {},
   "outputs": [
    {
     "data": {
      "text/html": [
       "<div>\n",
       "<style scoped>\n",
       "    .dataframe tbody tr th:only-of-type {\n",
       "        vertical-align: middle;\n",
       "    }\n",
       "\n",
       "    .dataframe tbody tr th {\n",
       "        vertical-align: top;\n",
       "    }\n",
       "\n",
       "    .dataframe thead th {\n",
       "        text-align: right;\n",
       "    }\n",
       "</style>\n",
       "<table border=\"1\" class=\"dataframe\">\n",
       "  <thead>\n",
       "    <tr style=\"text-align: right;\">\n",
       "      <th></th>\n",
       "      <th>Unnamed: 0</th>\n",
       "      <th>ID</th>\n",
       "      <th>Speech</th>\n",
       "      <th>description</th>\n",
       "      <th>Labels</th>\n",
       "    </tr>\n",
       "  </thead>\n",
       "  <tbody>\n",
       "    <tr>\n",
       "      <th>0</th>\n",
       "      <td>0</td>\n",
       "      <td>1471363</td>\n",
       "      <td>It's another pure gray morning. Don't know wha...</td>\n",
       "      <td>The new MINI Countryman is the largest yet, pr...</td>\n",
       "      <td>[0, 1, 0, 0, 0, 0, 0, 1, 0, 1, 1, 1, 1, 1, 0, ...</td>\n",
       "    </tr>\n",
       "    <tr>\n",
       "      <th>1</th>\n",
       "      <td>1</td>\n",
       "      <td>1488315</td>\n",
       "      <td>The end of civilization is upon us. Hold your ...</td>\n",
       "      <td>What would you do if the end of the world was ...</td>\n",
       "      <td>[0, 0, 0, 0, 0, 0, 0, 1, 0, 1, 1, 1, 1, 1, 0, ...</td>\n",
       "    </tr>\n",
       "    <tr>\n",
       "      <th>2</th>\n",
       "      <td>2</td>\n",
       "      <td>1526213</td>\n",
       "      <td>Audi presens can help prepare for and in some ...</td>\n",
       "      <td>As a man speeds down a country road in his Aud...</td>\n",
       "      <td>[0, 0, 0, 0, 1, 1, 0, 1, 1, 1, 1, 0, 1, 0, 0, ...</td>\n",
       "    </tr>\n",
       "    <tr>\n",
       "      <th>3</th>\n",
       "      <td>3</td>\n",
       "      <td>1548815</td>\n",
       "      <td>The new Honda Odyssey has tons of available sm...</td>\n",
       "      <td>On an otherwise peaceful day, two giant monste...</td>\n",
       "      <td>[0, 0, 0, 0, 0, 0, 0, 1, 0, 1, 1, 1, 1, 1, 0, ...</td>\n",
       "    </tr>\n",
       "    <tr>\n",
       "      <th>4</th>\n",
       "      <td>4</td>\n",
       "      <td>1624211</td>\n",
       "      <td>Hi guys. So this is the all new Chevy Equinox....</td>\n",
       "      <td>Chevy's spokesperson lists off all the feature...</td>\n",
       "      <td>[0, 1, 0, 0, 0, 0, 0, 1, 0, 1, 1, 1, 1, 0, 0, ...</td>\n",
       "    </tr>\n",
       "    <tr>\n",
       "      <th>5</th>\n",
       "      <td>5</td>\n",
       "      <td>1625396</td>\n",
       "      <td>I love you so much. We're going to be best fri...</td>\n",
       "      <td>When a woman finds a Lexus GX 460 parked outsi...</td>\n",
       "      <td>[0, 1, 0, 1, 1, 0, 0, 1, 0, 1, 1, 1, 1, 0, 0, ...</td>\n",
       "    </tr>\n",
       "    <tr>\n",
       "      <th>6</th>\n",
       "      <td>6</td>\n",
       "      <td>1641167</td>\n",
       "      <td>In this home. We believe there are things that...</td>\n",
       "      <td>Pillsbury believes that there are some things ...</td>\n",
       "      <td>[0, 1, 0, 0, 0, 0, 0, 1, 0, 1, 1, 1, 1, 0, 0, ...</td>\n",
       "    </tr>\n",
       "    <tr>\n",
       "      <th>7</th>\n",
       "      <td>7</td>\n",
       "      <td>1661301</td>\n",
       "      <td>Hurry. It's the final days of the Ford year en...</td>\n",
       "      <td>Ford announces that the final days of its Year...</td>\n",
       "      <td>[1, 0, 1, 1, 1, 0, 0, 1, 1, 1, 1, 1, 1, 0, 0, ...</td>\n",
       "    </tr>\n",
       "    <tr>\n",
       "      <th>8</th>\n",
       "      <td>8</td>\n",
       "      <td>1667694</td>\n",
       "      <td>This is Charlie and this is Charlie not coughi...</td>\n",
       "      <td>Because Charlie took Delsym 12-Hour Cough Reli...</td>\n",
       "      <td>[0, 0, 0, 0, 0, 0, 0, 1, 0, 1, 1, 1, 1, 0, 0, ...</td>\n",
       "    </tr>\n",
       "    <tr>\n",
       "      <th>9</th>\n",
       "      <td>9</td>\n",
       "      <td>1671240</td>\n",
       "      <td>Resolution. Number one binge more. Join the UN...</td>\n",
       "      <td>T-Mobile says its first resolution of the new ...</td>\n",
       "      <td>[1, 1, 1, 1, 0, 0, 1, 1, 1, 1, 1, 1, 1, 0, 0, ...</td>\n",
       "    </tr>\n",
       "  </tbody>\n",
       "</table>\n",
       "</div>"
      ],
      "text/plain": [
       "   Unnamed: 0       ID                                             Speech  \\\n",
       "0           0  1471363  It's another pure gray morning. Don't know wha...   \n",
       "1           1  1488315  The end of civilization is upon us. Hold your ...   \n",
       "2           2  1526213  Audi presens can help prepare for and in some ...   \n",
       "3           3  1548815  The new Honda Odyssey has tons of available sm...   \n",
       "4           4  1624211  Hi guys. So this is the all new Chevy Equinox....   \n",
       "5           5  1625396  I love you so much. We're going to be best fri...   \n",
       "6           6  1641167  In this home. We believe there are things that...   \n",
       "7           7  1661301  Hurry. It's the final days of the Ford year en...   \n",
       "8           8  1667694  This is Charlie and this is Charlie not coughi...   \n",
       "9           9  1671240  Resolution. Number one binge more. Join the UN...   \n",
       "\n",
       "                                         description  \\\n",
       "0  The new MINI Countryman is the largest yet, pr...   \n",
       "1  What would you do if the end of the world was ...   \n",
       "2  As a man speeds down a country road in his Aud...   \n",
       "3  On an otherwise peaceful day, two giant monste...   \n",
       "4  Chevy's spokesperson lists off all the feature...   \n",
       "5  When a woman finds a Lexus GX 460 parked outsi...   \n",
       "6  Pillsbury believes that there are some things ...   \n",
       "7  Ford announces that the final days of its Year...   \n",
       "8  Because Charlie took Delsym 12-Hour Cough Reli...   \n",
       "9  T-Mobile says its first resolution of the new ...   \n",
       "\n",
       "                                              Labels  \n",
       "0  [0, 1, 0, 0, 0, 0, 0, 1, 0, 1, 1, 1, 1, 1, 0, ...  \n",
       "1  [0, 0, 0, 0, 0, 0, 0, 1, 0, 1, 1, 1, 1, 1, 0, ...  \n",
       "2  [0, 0, 0, 0, 1, 1, 0, 1, 1, 1, 1, 0, 1, 0, 0, ...  \n",
       "3  [0, 0, 0, 0, 0, 0, 0, 1, 0, 1, 1, 1, 1, 1, 0, ...  \n",
       "4  [0, 1, 0, 0, 0, 0, 0, 1, 0, 1, 1, 1, 1, 0, 0, ...  \n",
       "5  [0, 1, 0, 1, 1, 0, 0, 1, 0, 1, 1, 1, 1, 0, 0, ...  \n",
       "6  [0, 1, 0, 0, 0, 0, 0, 1, 0, 1, 1, 1, 1, 0, 0, ...  \n",
       "7  [1, 0, 1, 1, 1, 0, 0, 1, 1, 1, 1, 1, 1, 0, 0, ...  \n",
       "8  [0, 0, 0, 0, 0, 0, 0, 1, 0, 1, 1, 1, 1, 0, 0, ...  \n",
       "9  [1, 1, 1, 1, 0, 0, 1, 1, 1, 1, 1, 1, 1, 0, 0, ...  "
      ]
     },
     "execution_count": 4,
     "metadata": {},
     "output_type": "execute_result"
    }
   ],
   "source": [
    "df.head(10)"
   ]
  },
  {
   "cell_type": "code",
   "execution_count": 5,
   "metadata": {},
   "outputs": [],
   "source": [
    "# np.array(df['Labels'])[0]\n",
    "# df['Labels'][0]\n",
    "df['Labels'] = df['Labels'].apply(lambda x: ast.literal_eval(x))\n"
   ]
  },
  {
   "cell_type": "code",
   "execution_count": 6,
   "metadata": {},
   "outputs": [],
   "source": [
    "# Predefined set of questions\n",
    "questions = [\n",
    "    \"Is there a call to go online (e.g., shop online, visit the Web)?\",\n",
    "    \"Is there online contact information provided (e.g., URL, website)?\",\n",
    "    \"Is there a visual or verbal call to purchase (e.g., buy now, order now)?\",\n",
    "    \"Does the ad portray a sense of urgency to act (e.g., buy before sales ends, order before ends)?\",\n",
    "    \"Is there an incentive to buy (e.g., a discount, a coupon, a sale or 'limited time offer')?\",\n",
    "    \"Is there offline contact information provided (e.g., phone, mail, store location)?\",\n",
    "    \"Is there mention of something free?\",\n",
    "    \"Does the ad mention at least one specific product or service (e.g., model, type, item)?\",\n",
    "    \"Is there any verbal or visual mention of the price?\",\n",
    "    \"Does the ad show the brand (logo, brand name) or trademark (something that most people know is the brand) multiple times?\",\n",
    "    \"Does the ad show the brand or trademark exactly once at the end of the ad?\",\n",
    "    \"Is the ad intended to affect the viewer emotionally, either with positive emotion or negative emotion?\",\n",
    "    \"Does the ad give you a positive feeling about the brand?\",\n",
    "    \"Does the ad have a story arc, with a beginning and an end?\",\n",
    "    \"Does the ad have a reversal of fortune, where something changes for the better or worse?\",\n",
    "    \"Does the ad have relatable characters?\",\n",
    "    \"Is the ad creative/clever?\",\n",
    "    \"Is the ad intended to be funny?\",\n",
    "    \"Does this ad provide sensory stimulation?\",\n",
    "    \"Is the ad visually pleasing?\",\n",
    "    \"Does the ad have cute elements like animals, babies, animated characters, etc?\"\n",
    "]\n",
    "\n",
    "question_embeddings = []\n",
    "for question in questions:\n",
    "    encoded_input = tokenizer(question, return_tensors='pt', padding=True, truncation=True)\n",
    "    with torch.no_grad():\n",
    "        output = model(**encoded_input)\n",
    "        embeddings = output.last_hidden_state.mean(dim=1).squeeze().numpy()\n",
    "    question_embeddings.append(embeddings)\n",
    "\n",
    "# Convert to numpy array for consistency\n",
    "question_embeddings = np.array(question_embeddings)"
   ]
  },
  {
   "cell_type": "code",
   "execution_count": 7,
   "metadata": {},
   "outputs": [],
   "source": [
    "# Initialize lists to store evaluation results\n",
    "speech_list = []\n",
    "predicted_labels_list = []\n",
    "recall_list = []\n",
    "precision_list = []\n",
    "f1_score_list = []\n",
    "agreement_percentage_list = []\n",
    "accuracy_list = []\n",
    "roc_auc_list = []"
   ]
  },
  {
   "cell_type": "code",
   "execution_count": 8,
   "metadata": {},
   "outputs": [],
   "source": [
    "# Initialize variable to accumulate total agreements\n",
    "total_agreement = 0\n",
    "\n",
    "# Iterate over each row in the dataframe\n",
    "for index, row in df.iterrows():\n",
    "    # Get user input text (Speech) and Labels\n",
    "    user_input_text = row['Speech'] + row['description']\n",
    "    labels = row['Labels']\n",
    "    \n",
    "    # Tokenize and encode the user input text\n",
    "    encoded_user_input = tokenizer(user_input_text, return_tensors='pt', padding=True, truncation=True)\n",
    "    with torch.no_grad():\n",
    "        output = model(**encoded_user_input)\n",
    "        user_input_embedding = output.last_hidden_state.mean(dim=1).squeeze().numpy()\n",
    "\n",
    "    # Perform vector search using cosine similarity\n",
    "    similarity_scores = cosine_similarity([user_input_embedding], question_embeddings).flatten()\n",
    "\n",
    "    # Define a threshold for decision (you can adjust this based on your needs)\n",
    "    threshold = 0.6\n",
    "\n",
    "    # Determine answers based on similarity scores\n",
    "    predicted_answers = []\n",
    "    for score, question in zip(similarity_scores, questions):\n",
    "        if score >= threshold:\n",
    "            predicted_answers.append(1)  # YES\n",
    "        else:\n",
    "            predicted_answers.append(0)  # NO\n",
    "\n",
    "  # Calculate evaluation metrics\n",
    "    recall = recall_score(labels, predicted_answers, average='binary')\n",
    "    precision = precision_score(labels, predicted_answers, average='binary')\n",
    "    f1 = f1_score(labels, predicted_answers, average='binary')\n",
    "    accuracy = accuracy_score(labels, predicted_answers)\n",
    "    roc_auc = roc_auc_score(labels, predicted_answers)\n",
    "\n",
    "    # Append results to lists\n",
    "    speech_list.append(user_input_text)\n",
    "    predicted_labels_list.append(predicted_answers)\n",
    "    recall_list.append(recall)\n",
    "    precision_list.append(precision)\n",
    "    f1_score_list.append(f1)\n",
    "    accuracy_list.append(accuracy)\n",
    "    roc_auc_list.append(roc_auc)\n",
    "\n",
    "    # Calculate agreement percentage\n",
    "    agreement_count = sum([1 for true, pred in zip(labels, predicted_answers) if true == pred])\n",
    "    total_agreement += agreement_count\n",
    "    \n",
    "    # Append agreement percentage to list\n",
    "    agreement_percentage = (agreement_count / len(labels)) * 100\n",
    "    agreement_percentage_list.append(agreement_percentage)\n"
   ]
  },
  {
   "cell_type": "code",
   "execution_count": 9,
   "metadata": {},
   "outputs": [],
   "source": [
    "# Create a new dataframe with results\n",
    "results_df = pd.DataFrame({\n",
    "    'Speech': speech_list,\n",
    "    'Predicted Labels': predicted_labels_list,\n",
    "    'Recall': recall_list,\n",
    "    'Precision': precision_list,\n",
    "    'F1 Score': f1_score_list,\n",
    "    'Accuracy': accuracy_list,\n",
    "    'ROC AUC': roc_auc_list,\n",
    "    'Agreement Percentage': agreement_percentage_list\n",
    "\n",
    "})\n"
   ]
  },
  {
   "cell_type": "code",
   "execution_count": 10,
   "metadata": {},
   "outputs": [
    {
     "data": {
      "text/html": [
       "<div>\n",
       "<style scoped>\n",
       "    .dataframe tbody tr th:only-of-type {\n",
       "        vertical-align: middle;\n",
       "    }\n",
       "\n",
       "    .dataframe tbody tr th {\n",
       "        vertical-align: top;\n",
       "    }\n",
       "\n",
       "    .dataframe thead th {\n",
       "        text-align: right;\n",
       "    }\n",
       "</style>\n",
       "<table border=\"1\" class=\"dataframe\">\n",
       "  <thead>\n",
       "    <tr style=\"text-align: right;\">\n",
       "      <th></th>\n",
       "      <th>Speech</th>\n",
       "      <th>Predicted Labels</th>\n",
       "      <th>Recall</th>\n",
       "      <th>Precision</th>\n",
       "      <th>F1 Score</th>\n",
       "      <th>Accuracy</th>\n",
       "      <th>ROC AUC</th>\n",
       "      <th>Agreement Percentage</th>\n",
       "    </tr>\n",
       "  </thead>\n",
       "  <tbody>\n",
       "    <tr>\n",
       "      <th>0</th>\n",
       "      <td>It's another pure gray morning. Don't know wha...</td>\n",
       "      <td>[1, 0, 1, 1, 1, 1, 1, 1, 0, 1, 1, 0, 1, 1, 1, ...</td>\n",
       "      <td>0.600000</td>\n",
       "      <td>0.428571</td>\n",
       "      <td>0.500000</td>\n",
       "      <td>0.428571</td>\n",
       "      <td>0.436364</td>\n",
       "      <td>42.857143</td>\n",
       "    </tr>\n",
       "    <tr>\n",
       "      <th>1</th>\n",
       "      <td>The end of civilization is upon us. Hold your ...</td>\n",
       "      <td>[1, 1, 1, 1, 1, 1, 0, 1, 0, 1, 1, 1, 1, 1, 1, ...</td>\n",
       "      <td>0.750000</td>\n",
       "      <td>0.400000</td>\n",
       "      <td>0.521739</td>\n",
       "      <td>0.476190</td>\n",
       "      <td>0.528846</td>\n",
       "      <td>47.619048</td>\n",
       "    </tr>\n",
       "    <tr>\n",
       "      <th>2</th>\n",
       "      <td>Audi presens can help prepare for and in some ...</td>\n",
       "      <td>[1, 0, 1, 1, 1, 1, 0, 1, 0, 1, 1, 1, 1, 1, 1, ...</td>\n",
       "      <td>0.600000</td>\n",
       "      <td>0.400000</td>\n",
       "      <td>0.480000</td>\n",
       "      <td>0.380952</td>\n",
       "      <td>0.390909</td>\n",
       "      <td>38.095238</td>\n",
       "    </tr>\n",
       "    <tr>\n",
       "      <th>3</th>\n",
       "      <td>The new Honda Odyssey has tons of available sm...</td>\n",
       "      <td>[1, 0, 1, 1, 1, 1, 0, 1, 0, 1, 1, 1, 1, 1, 1, ...</td>\n",
       "      <td>0.727273</td>\n",
       "      <td>0.571429</td>\n",
       "      <td>0.640000</td>\n",
       "      <td>0.571429</td>\n",
       "      <td>0.563636</td>\n",
       "      <td>57.142857</td>\n",
       "    </tr>\n",
       "    <tr>\n",
       "      <th>4</th>\n",
       "      <td>Hi guys. So this is the all new Chevy Equinox....</td>\n",
       "      <td>[1, 0, 1, 1, 1, 1, 0, 1, 0, 1, 1, 1, 1, 1, 1, ...</td>\n",
       "      <td>0.600000</td>\n",
       "      <td>0.428571</td>\n",
       "      <td>0.500000</td>\n",
       "      <td>0.428571</td>\n",
       "      <td>0.436364</td>\n",
       "      <td>42.857143</td>\n",
       "    </tr>\n",
       "    <tr>\n",
       "      <th>5</th>\n",
       "      <td>I love you so much. We're going to be best fri...</td>\n",
       "      <td>[1, 1, 1, 1, 1, 1, 0, 1, 1, 1, 1, 1, 1, 1, 1, ...</td>\n",
       "      <td>0.785714</td>\n",
       "      <td>0.647059</td>\n",
       "      <td>0.709677</td>\n",
       "      <td>0.571429</td>\n",
       "      <td>0.464286</td>\n",
       "      <td>57.142857</td>\n",
       "    </tr>\n",
       "  </tbody>\n",
       "</table>\n",
       "</div>"
      ],
      "text/plain": [
       "                                              Speech  \\\n",
       "0  It's another pure gray morning. Don't know wha...   \n",
       "1  The end of civilization is upon us. Hold your ...   \n",
       "2  Audi presens can help prepare for and in some ...   \n",
       "3  The new Honda Odyssey has tons of available sm...   \n",
       "4  Hi guys. So this is the all new Chevy Equinox....   \n",
       "5  I love you so much. We're going to be best fri...   \n",
       "\n",
       "                                    Predicted Labels    Recall  Precision  \\\n",
       "0  [1, 0, 1, 1, 1, 1, 1, 1, 0, 1, 1, 0, 1, 1, 1, ...  0.600000   0.428571   \n",
       "1  [1, 1, 1, 1, 1, 1, 0, 1, 0, 1, 1, 1, 1, 1, 1, ...  0.750000   0.400000   \n",
       "2  [1, 0, 1, 1, 1, 1, 0, 1, 0, 1, 1, 1, 1, 1, 1, ...  0.600000   0.400000   \n",
       "3  [1, 0, 1, 1, 1, 1, 0, 1, 0, 1, 1, 1, 1, 1, 1, ...  0.727273   0.571429   \n",
       "4  [1, 0, 1, 1, 1, 1, 0, 1, 0, 1, 1, 1, 1, 1, 1, ...  0.600000   0.428571   \n",
       "5  [1, 1, 1, 1, 1, 1, 0, 1, 1, 1, 1, 1, 1, 1, 1, ...  0.785714   0.647059   \n",
       "\n",
       "   F1 Score  Accuracy   ROC AUC  Agreement Percentage  \n",
       "0  0.500000  0.428571  0.436364             42.857143  \n",
       "1  0.521739  0.476190  0.528846             47.619048  \n",
       "2  0.480000  0.380952  0.390909             38.095238  \n",
       "3  0.640000  0.571429  0.563636             57.142857  \n",
       "4  0.500000  0.428571  0.436364             42.857143  \n",
       "5  0.709677  0.571429  0.464286             57.142857  "
      ]
     },
     "execution_count": 10,
     "metadata": {},
     "output_type": "execute_result"
    }
   ],
   "source": [
    "results_df.head(6)"
   ]
  },
  {
   "cell_type": "code",
   "execution_count": 11,
   "metadata": {},
   "outputs": [
    {
     "data": {
      "text/plain": [
       "51.39682539682539"
      ]
     },
     "execution_count": 11,
     "metadata": {},
     "output_type": "execute_result"
    }
   ],
   "source": [
    "results_df['Agreement Percentage'].mean()"
   ]
  },
  {
   "cell_type": "code",
   "execution_count": 12,
   "metadata": {},
   "outputs": [
    {
     "data": {
      "text/plain": [
       "(150, 8)"
      ]
     },
     "execution_count": 12,
     "metadata": {},
     "output_type": "execute_result"
    }
   ],
   "source": [
    "# results_df.to_clipboard()\n",
    "results_df.shape"
   ]
  },
  {
   "cell_type": "code",
   "execution_count": 13,
   "metadata": {},
   "outputs": [],
   "source": [
    "label_df = pd.DataFrame(results_df['Predicted Labels'].tolist(), columns=questions)\n"
   ]
  },
  {
   "cell_type": "code",
   "execution_count": 14,
   "metadata": {},
   "outputs": [
    {
     "data": {
      "text/plain": [
       "(150, 29)"
      ]
     },
     "execution_count": 14,
     "metadata": {},
     "output_type": "execute_result"
    }
   ],
   "source": [
    "score_df = pd.concat([results_df, label_df], axis=1)\n",
    "score_df.shape\n"
   ]
  },
  {
   "cell_type": "code",
   "execution_count": 14,
   "metadata": {},
   "outputs": [],
   "source": [
    "# label_df.head()"
   ]
  },
  {
   "cell_type": "code",
   "execution_count": 17,
   "metadata": {},
   "outputs": [],
   "source": [
    "# score_df.head(2)"
   ]
  },
  {
   "cell_type": "code",
   "execution_count": 15,
   "metadata": {},
   "outputs": [],
   "source": [
    "score_df.to_excel('results/BERT_results_with_speech_and_description.xlsx', index=False)"
   ]
  },
  {
   "cell_type": "code",
   "execution_count": null,
   "metadata": {},
   "outputs": [],
   "source": []
  }
 ],
 "metadata": {
  "kernelspec": {
   "display_name": ".venv",
   "language": "python",
   "name": "python3"
  },
  "language_info": {
   "codemirror_mode": {
    "name": "ipython",
    "version": 3
   },
   "file_extension": ".py",
   "mimetype": "text/x-python",
   "name": "python",
   "nbconvert_exporter": "python",
   "pygments_lexer": "ipython3",
   "version": "3.11.0"
  }
 },
 "nbformat": 4,
 "nbformat_minor": 2
}
