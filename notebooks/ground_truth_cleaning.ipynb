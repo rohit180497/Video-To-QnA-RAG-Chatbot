{
 "cells": [
  {
   "cell_type": "markdown",
   "metadata": {},
   "source": [
    "#### Loading necessary libraries"
   ]
  },
  {
   "cell_type": "code",
   "execution_count": 67,
   "metadata": {},
   "outputs": [],
   "source": [
    "import pandas as pd\n",
    "import numbers as np\n",
    "pd.set_option('display.max_columns', 100)\n",
    "pd.set_option('display.max_rows', 100)\n"
   ]
  },
  {
   "cell_type": "markdown",
   "metadata": {},
   "source": [
    "#### Loading Data"
   ]
  },
  {
   "cell_type": "code",
   "execution_count": 68,
   "metadata": {},
   "outputs": [
    {
     "data": {
      "text/plain": [
       "(449, 36)"
      ]
     },
     "execution_count": 68,
     "metadata": {},
     "output_type": "execute_result"
    }
   ],
   "source": [
    "df = pd.read_excel('ground-truth.xlsx', engine='openpyxl')\n",
    "df.shape"
   ]
  },
  {
   "cell_type": "code",
   "execution_count": 69,
   "metadata": {},
   "outputs": [],
   "source": [
    "# df.head()"
   ]
  },
  {
   "cell_type": "code",
   "execution_count": 70,
   "metadata": {},
   "outputs": [
    {
     "data": {
      "text/plain": [
       "(449, 29)"
      ]
     },
     "execution_count": 70,
     "metadata": {},
     "output_type": "execute_result"
    }
   ],
   "source": [
    "df.isna().sum()\n",
    "cols = df.columns[df.isnull().any()].tolist()\n",
    "# Drop columns with missing values as none of the columns/question in questionnaire \n",
    "df.drop(columns=cols, inplace=True)\n",
    "df.shape"
   ]
  },
  {
   "cell_type": "code",
   "execution_count": 71,
   "metadata": {},
   "outputs": [],
   "source": [
    "def majority_vote(series):\n",
    "    \"\"\"\n",
    "    Performs majority voting on a pandas Series.\n",
    "\n",
    "    Parameters:\n",
    "    - series (pd.Series): A pandas Series containing categorical values.\n",
    "\n",
    "    Returns:\n",
    "    - str: The majority-voted value. If there's a tie, 'yes' is favored.\n",
    "\n",
    "    Example:\n",
    "    series = pd.Series(['yes', 'no', 'yes', 'yes', 'no'])\n",
    "    result = majority_vote(series)\n",
    "    \"\"\"\n",
    "    if series.empty:\n",
    "        return 'no'  \n",
    "    # Count the occurrences of each unique value in the series\n",
    "    counts = series.value_counts()\n",
    "    # Check if there's a tie\n",
    "    if len(counts) > 1 and counts.iloc[0] == counts.iloc[1]:\n",
    "        # Resolve ties in favor of 'yes'\n",
    "        return 'yes'\n",
    "    else:\n",
    "        # Return the most frequent value\n",
    "        return counts.idxmax()"
   ]
  },
  {
   "cell_type": "code",
   "execution_count": 72,
   "metadata": {},
   "outputs": [],
   "source": [
    "majority_df = df.groupby('creative_data_id').agg(majority_vote).reset_index()\n"
   ]
  },
  {
   "cell_type": "code",
   "execution_count": 73,
   "metadata": {},
   "outputs": [
    {
     "data": {
      "text/plain": [
       "(150, 29)"
      ]
     },
     "execution_count": 73,
     "metadata": {},
     "output_type": "execute_result"
    }
   ],
   "source": [
    "majority_df.shape"
   ]
  },
  {
   "cell_type": "code",
   "execution_count": 74,
   "metadata": {},
   "outputs": [
    {
     "data": {
      "text/plain": [
       "(150, 23)"
      ]
     },
     "execution_count": 74,
     "metadata": {},
     "output_type": "execute_result"
    }
   ],
   "source": [
    "# removing unnecessary columns which are not needed for further analysis\n",
    "majority_df = majority_df.iloc[:,:-6].reset_index(drop=True)\n",
    "majority_df.shape"
   ]
  },
  {
   "cell_type": "code",
   "execution_count": 75,
   "metadata": {},
   "outputs": [],
   "source": [
    "# majority_df.to_excel(\"data/ground-truth_cleaned.xlsx\")"
   ]
  },
  {
   "cell_type": "code",
   "execution_count": 76,
   "metadata": {},
   "outputs": [
    {
     "data": {
      "text/plain": [
       "(150, 9)"
      ]
     },
     "execution_count": 76,
     "metadata": {},
     "output_type": "execute_result"
    }
   ],
   "source": [
    "video_df = pd.read_csv(\"data/sample.csv\")\n",
    "video_df.shape"
   ]
  },
  {
   "cell_type": "code",
   "execution_count": 77,
   "metadata": {},
   "outputs": [
    {
     "data": {
      "text/html": [
       "<div>\n",
       "<style scoped>\n",
       "    .dataframe tbody tr th:only-of-type {\n",
       "        vertical-align: middle;\n",
       "    }\n",
       "\n",
       "    .dataframe tbody tr th {\n",
       "        vertical-align: top;\n",
       "    }\n",
       "\n",
       "    .dataframe thead th {\n",
       "        text-align: right;\n",
       "    }\n",
       "</style>\n",
       "<table border=\"1\" class=\"dataframe\">\n",
       "  <thead>\n",
       "    <tr style=\"text-align: right;\">\n",
       "      <th></th>\n",
       "      <th>creative_data_id</th>\n",
       "      <th>creative_data_title</th>\n",
       "      <th>creative_data_description</th>\n",
       "      <th>creative_data_duration</th>\n",
       "      <th>creative_data_lifetime_spend_estimated</th>\n",
       "      <th>creative_data_lifetime_airings_count</th>\n",
       "      <th>creative_data_airing_date_first_et</th>\n",
       "      <th>creative_data_airing_date_last_et</th>\n",
       "      <th>speech</th>\n",
       "    </tr>\n",
       "  </thead>\n",
       "  <tbody>\n",
       "    <tr>\n",
       "      <th>0</th>\n",
       "      <td>2194673</td>\n",
       "      <td>30s Kim's Discount - 2194673</td>\n",
       "      <td>Kim is going for the State Farm Drive Safe &amp; S...</td>\n",
       "      <td>30</td>\n",
       "      <td>29789808.73</td>\n",
       "      <td>13949</td>\n",
       "      <td>2019-04-06T22:19:06-04:00</td>\n",
       "      <td>2020-08-04T18:42:50-04:00</td>\n",
       "      <td>So Kim, you going for a big drive safe and sav...</td>\n",
       "    </tr>\n",
       "    <tr>\n",
       "      <th>1</th>\n",
       "      <td>2142915</td>\n",
       "      <td>30s New Flat - 2142915</td>\n",
       "      <td>Uncomfortable with her shabby apartment and ro...</td>\n",
       "      <td>30</td>\n",
       "      <td>5423001.70</td>\n",
       "      <td>10132</td>\n",
       "      <td>2019-03-04T06:49:02-05:00</td>\n",
       "      <td>2021-08-03T11:12:36-04:00</td>\n",
       "      <td>Check your credit scores for free and learn ho...</td>\n",
       "    </tr>\n",
       "  </tbody>\n",
       "</table>\n",
       "</div>"
      ],
      "text/plain": [
       "   creative_data_id           creative_data_title  \\\n",
       "0           2194673  30s Kim's Discount - 2194673   \n",
       "1           2142915        30s New Flat - 2142915   \n",
       "\n",
       "                           creative_data_description  creative_data_duration  \\\n",
       "0  Kim is going for the State Farm Drive Safe & S...                      30   \n",
       "1  Uncomfortable with her shabby apartment and ro...                      30   \n",
       "\n",
       "   creative_data_lifetime_spend_estimated  \\\n",
       "0                             29789808.73   \n",
       "1                              5423001.70   \n",
       "\n",
       "   creative_data_lifetime_airings_count creative_data_airing_date_first_et  \\\n",
       "0                                 13949          2019-04-06T22:19:06-04:00   \n",
       "1                                 10132          2019-03-04T06:49:02-05:00   \n",
       "\n",
       "  creative_data_airing_date_last_et  \\\n",
       "0         2020-08-04T18:42:50-04:00   \n",
       "1         2021-08-03T11:12:36-04:00   \n",
       "\n",
       "                                              speech  \n",
       "0  So Kim, you going for a big drive safe and sav...  \n",
       "1  Check your credit scores for free and learn ho...  "
      ]
     },
     "execution_count": 77,
     "metadata": {},
     "output_type": "execute_result"
    }
   ],
   "source": [
    "video_df.head(2)"
   ]
  },
  {
   "cell_type": "code",
   "execution_count": 78,
   "metadata": {},
   "outputs": [
    {
     "data": {
      "text/plain": [
       "(150, 3)"
      ]
     },
     "execution_count": 78,
     "metadata": {},
     "output_type": "execute_result"
    }
   ],
   "source": [
    "video_df  = video_df[['creative_data_id', 'creative_data_description', 'speech']].reset_index(drop=True)\n",
    "video_df.shape"
   ]
  },
  {
   "cell_type": "code",
   "execution_count": 102,
   "metadata": {},
   "outputs": [
    {
     "data": {
      "text/plain": [
       "(150, 25)"
      ]
     },
     "execution_count": 102,
     "metadata": {},
     "output_type": "execute_result"
    }
   ],
   "source": [
    "# Merging ground-truth and video-data\n",
    "\n",
    "merged_df = pd.merge(majority_df, video_df, on='creative_data_id')\n",
    "merged_df.shape\n"
   ]
  },
  {
   "cell_type": "code",
   "execution_count": 103,
   "metadata": {},
   "outputs": [
    {
     "data": {
      "text/plain": [
       "creative_data_id                                                                                                                                                                                                                                                                                                                 0\n",
       "Timestamp                                                                                                                                                                                                                                                                                                                        0\n",
       "Is there a call to go online (e.g., shop online, visit the Web)?                                                                                                                                                                                                                                                                 0\n",
       "Is there online contact information provided (e.g., URL, website)?                                                                                                                                                                                                                                                               0\n",
       "Is there a visual or verbal call to purchase (e.g., buy now, order now)?                                                                                                                                                                                                                                                         0\n",
       "Does the ad portray a sense of urgency to act (e.g., buy before sales ends, order before ends)?                                                                                                                                                                                                                                  0\n",
       "Is there an incentive to buy (e.g., a discount, a coupon, a sale or \"limited time offer\")?                                                                                                                                                                                                                                       0\n",
       "Is there offline contact information provided (e.g., phone, mail, store location)?                                                                                                                                                                                                                                               0\n",
       "Is there mention of something free?                                                                                                                                                                                                                                                                                              0\n",
       "Does the ad mention at least one specific product or service (e.g., model, type, item)?                                                                                                                                                                                                                                          0\n",
       "Is there any verbal or visual mention of the price?                                                                                                                                                                                                                                                                              0\n",
       "Does the ad show the brand (logo, brand name) or trademark (something that most people know is the brand) multiple times?\\n\\nFor example, Nike ads often have the \"swoosh\" logo prominently displayed on shoes and apparel worn by celebrity athletes. The \"Just Do It\" slogan is another Nike trademark frequently included.    0\n",
       "Does the ad show the brand or trademark exactly once at the end of the ad?                                                                                                                                                                                                                                                       0\n",
       "Is the ad intended to affect the viewer emotionally, either with positive emotion (fun, joy), negative emotion (sad, anxious) or another type of emotion? (Note: You may not personally agree, but assess if that was the intention.)                                                                                            0\n",
       "Does the ad give you a positive feeling about the brand?                                                                                                                                                                                                                                                                         0\n",
       "Does the ad have a story arc, with a beginning and an end?                                                                                                                                                                                                                                                                       0\n",
       "Does the ad have a reversal of fortune, where something changes for the better, or changes for the worse?                                                                                                                                                                                                                        0\n",
       "Does the ad have relatable characters?                                                                                                                                                                                                                                                                                           0\n",
       "Is the ad creative/clever?                                                                                                                                                                                                                                                                                                       0\n",
       "Is the ad intended to be funny? (Note: You may not personally agree, but assess if that was the intention.)                                                                                                                                                                                                                      0\n",
       "Does this ad provide sensory stimulation (e.g., cool visuals, arousing music, mouth-watering)?                                                                                                                                                                                                                                   0\n",
       "Is the ad visually pleasing?                                                                                                                                                                                                                                                                                                     0\n",
       "Does the ad have cute elements like animals, babies, animated, characters, etc?                                                                                                                                                                                                                                                  0\n",
       "creative_data_description                                                                                                                                                                                                                                                                                                        0\n",
       "speech                                                                                                                                                                                                                                                                                                                           0\n",
       "dtype: int64"
      ]
     },
     "execution_count": 103,
     "metadata": {},
     "output_type": "execute_result"
    }
   ],
   "source": [
    "merged_df.isna().sum()"
   ]
  },
  {
   "cell_type": "code",
   "execution_count": 104,
   "metadata": {},
   "outputs": [],
   "source": [
    "merged_df = pd.read_excel(\"data/final_data.xlsx\")"
   ]
  },
  {
   "cell_type": "code",
   "execution_count": 105,
   "metadata": {},
   "outputs": [],
   "source": [
    "yes_no_columns =merged_df.columns[2:-2]  \n",
    "\n",
    "# Convert values to lowercase before mapping\n",
    "for col in yes_no_columns:\n",
    "    merged_df[col] = merged_df[col].str.lower().map({'yes': 1, 'no': 0})"
   ]
  },
  {
   "cell_type": "code",
   "execution_count": 132,
   "metadata": {},
   "outputs": [],
   "source": [
    "# Create a long-form dataset where each row is a (speech, question) pair\n",
    "long_form_data = []\n",
    "\n",
    "for index, row in merged_df.iterrows():\n",
    "    for question in yes_no_columns:\n",
    "        long_form_data.append({\n",
    "            'ID': row['creative_data_id'],\n",
    "            'speech': row['speech'],\n",
    "            'description': row['creative_data_description'],\n",
    "            'question': question,\n",
    "            'label': row[question]\n",
    "        })\n",
    "\n",
    "long_form_df = pd.DataFrame(long_form_data)"
   ]
  },
  {
   "cell_type": "code",
   "execution_count": 133,
   "metadata": {},
   "outputs": [
    {
     "data": {
      "text/plain": [
       "ID             0\n",
       "speech         0\n",
       "description    0\n",
       "question       0\n",
       "label          0\n",
       "dtype: int64"
      ]
     },
     "execution_count": 133,
     "metadata": {},
     "output_type": "execute_result"
    }
   ],
   "source": [
    "long_form_df.isna().sum()"
   ]
  },
  {
   "cell_type": "code",
   "execution_count": 121,
   "metadata": {},
   "outputs": [
    {
     "data": {
      "text/plain": [
       "[1, 0, 1, 1, 1, 1, 1, 1, 1, 1, 1, 1, 1, 0, 1, 0, 0, 0, 0, 0, 0]"
      ]
     },
     "execution_count": 121,
     "metadata": {},
     "output_type": "execute_result"
    }
   ],
   "source": [
    "long_form_df[long_form_df['ID']==1739116]['label'].to_list()"
   ]
  },
  {
   "cell_type": "code",
   "execution_count": 122,
   "metadata": {},
   "outputs": [
    {
     "data": {
      "text/plain": [
       "\"Introducing slim pants. The number one weight loss supplement at GNC with slim bands. I lost £19. I gained a size six body in eight weeks. Natural herbal ingredients. I've lost four dress sizes, no stimulants, no jitters. I've gained a healthier lifestyle that now my kids can see. Slim Vance is now available at your local G and C store or text slim 30 to 2468, 10 to get a complimentary 14 day supply of slim vs before they're gone.\""
      ]
     },
     "execution_count": 122,
     "metadata": {},
     "output_type": "execute_result"
    }
   ],
   "source": [
    "long_form_df[long_form_df['ID']==1739116]['speech'].to_list()[0]"
   ]
  },
  {
   "cell_type": "code",
   "execution_count": 136,
   "metadata": {},
   "outputs": [
    {
     "data": {
      "text/html": [
       "<div>\n",
       "<style scoped>\n",
       "    .dataframe tbody tr th:only-of-type {\n",
       "        vertical-align: middle;\n",
       "    }\n",
       "\n",
       "    .dataframe tbody tr th {\n",
       "        vertical-align: top;\n",
       "    }\n",
       "\n",
       "    .dataframe thead th {\n",
       "        text-align: right;\n",
       "    }\n",
       "</style>\n",
       "<table border=\"1\" class=\"dataframe\">\n",
       "  <thead>\n",
       "    <tr style=\"text-align: right;\">\n",
       "      <th></th>\n",
       "      <th>ID</th>\n",
       "      <th>speech</th>\n",
       "      <th>description</th>\n",
       "      <th>question</th>\n",
       "      <th>label</th>\n",
       "    </tr>\n",
       "  </thead>\n",
       "  <tbody>\n",
       "    <tr>\n",
       "      <th>0</th>\n",
       "      <td>1471363</td>\n",
       "      <td>It's another pure gray morning. Don't know wha...</td>\n",
       "      <td>The new MINI Countryman is the largest yet, pr...</td>\n",
       "      <td>Is there a call to go online (e.g., shop onlin...</td>\n",
       "      <td>0</td>\n",
       "    </tr>\n",
       "    <tr>\n",
       "      <th>1</th>\n",
       "      <td>1471363</td>\n",
       "      <td>It's another pure gray morning. Don't know wha...</td>\n",
       "      <td>The new MINI Countryman is the largest yet, pr...</td>\n",
       "      <td>Is there online contact information provided (...</td>\n",
       "      <td>1</td>\n",
       "    </tr>\n",
       "    <tr>\n",
       "      <th>2</th>\n",
       "      <td>1471363</td>\n",
       "      <td>It's another pure gray morning. Don't know wha...</td>\n",
       "      <td>The new MINI Countryman is the largest yet, pr...</td>\n",
       "      <td>Is there a visual or verbal call to purchase (...</td>\n",
       "      <td>0</td>\n",
       "    </tr>\n",
       "    <tr>\n",
       "      <th>3</th>\n",
       "      <td>1471363</td>\n",
       "      <td>It's another pure gray morning. Don't know wha...</td>\n",
       "      <td>The new MINI Countryman is the largest yet, pr...</td>\n",
       "      <td>Does the ad portray a sense of urgency to act ...</td>\n",
       "      <td>0</td>\n",
       "    </tr>\n",
       "    <tr>\n",
       "      <th>4</th>\n",
       "      <td>1471363</td>\n",
       "      <td>It's another pure gray morning. Don't know wha...</td>\n",
       "      <td>The new MINI Countryman is the largest yet, pr...</td>\n",
       "      <td>Is there an incentive to buy (e.g., a discount...</td>\n",
       "      <td>0</td>\n",
       "    </tr>\n",
       "    <tr>\n",
       "      <th>5</th>\n",
       "      <td>1471363</td>\n",
       "      <td>It's another pure gray morning. Don't know wha...</td>\n",
       "      <td>The new MINI Countryman is the largest yet, pr...</td>\n",
       "      <td>Is there offline contact information provided ...</td>\n",
       "      <td>0</td>\n",
       "    </tr>\n",
       "    <tr>\n",
       "      <th>6</th>\n",
       "      <td>1471363</td>\n",
       "      <td>It's another pure gray morning. Don't know wha...</td>\n",
       "      <td>The new MINI Countryman is the largest yet, pr...</td>\n",
       "      <td>Is there mention of something free?</td>\n",
       "      <td>0</td>\n",
       "    </tr>\n",
       "    <tr>\n",
       "      <th>7</th>\n",
       "      <td>1471363</td>\n",
       "      <td>It's another pure gray morning. Don't know wha...</td>\n",
       "      <td>The new MINI Countryman is the largest yet, pr...</td>\n",
       "      <td>Does the ad mention at least one specific prod...</td>\n",
       "      <td>1</td>\n",
       "    </tr>\n",
       "    <tr>\n",
       "      <th>8</th>\n",
       "      <td>1471363</td>\n",
       "      <td>It's another pure gray morning. Don't know wha...</td>\n",
       "      <td>The new MINI Countryman is the largest yet, pr...</td>\n",
       "      <td>Is there any verbal or visual mention of the p...</td>\n",
       "      <td>0</td>\n",
       "    </tr>\n",
       "    <tr>\n",
       "      <th>9</th>\n",
       "      <td>1471363</td>\n",
       "      <td>It's another pure gray morning. Don't know wha...</td>\n",
       "      <td>The new MINI Countryman is the largest yet, pr...</td>\n",
       "      <td>Does the ad show the brand (logo, brand name) ...</td>\n",
       "      <td>1</td>\n",
       "    </tr>\n",
       "    <tr>\n",
       "      <th>10</th>\n",
       "      <td>1471363</td>\n",
       "      <td>It's another pure gray morning. Don't know wha...</td>\n",
       "      <td>The new MINI Countryman is the largest yet, pr...</td>\n",
       "      <td>Does the ad show the brand or trademark exactl...</td>\n",
       "      <td>1</td>\n",
       "    </tr>\n",
       "    <tr>\n",
       "      <th>11</th>\n",
       "      <td>1471363</td>\n",
       "      <td>It's another pure gray morning. Don't know wha...</td>\n",
       "      <td>The new MINI Countryman is the largest yet, pr...</td>\n",
       "      <td>Is the ad intended to affect the viewer emotio...</td>\n",
       "      <td>1</td>\n",
       "    </tr>\n",
       "    <tr>\n",
       "      <th>12</th>\n",
       "      <td>1471363</td>\n",
       "      <td>It's another pure gray morning. Don't know wha...</td>\n",
       "      <td>The new MINI Countryman is the largest yet, pr...</td>\n",
       "      <td>Does the ad give you a positive feeling about ...</td>\n",
       "      <td>1</td>\n",
       "    </tr>\n",
       "    <tr>\n",
       "      <th>13</th>\n",
       "      <td>1471363</td>\n",
       "      <td>It's another pure gray morning. Don't know wha...</td>\n",
       "      <td>The new MINI Countryman is the largest yet, pr...</td>\n",
       "      <td>Does the ad have a story arc, with a beginning...</td>\n",
       "      <td>1</td>\n",
       "    </tr>\n",
       "    <tr>\n",
       "      <th>14</th>\n",
       "      <td>1471363</td>\n",
       "      <td>It's another pure gray morning. Don't know wha...</td>\n",
       "      <td>The new MINI Countryman is the largest yet, pr...</td>\n",
       "      <td>Does the ad have a reversal of fortune, where ...</td>\n",
       "      <td>0</td>\n",
       "    </tr>\n",
       "    <tr>\n",
       "      <th>15</th>\n",
       "      <td>1471363</td>\n",
       "      <td>It's another pure gray morning. Don't know wha...</td>\n",
       "      <td>The new MINI Countryman is the largest yet, pr...</td>\n",
       "      <td>Does the ad have relatable characters?</td>\n",
       "      <td>1</td>\n",
       "    </tr>\n",
       "    <tr>\n",
       "      <th>16</th>\n",
       "      <td>1471363</td>\n",
       "      <td>It's another pure gray morning. Don't know wha...</td>\n",
       "      <td>The new MINI Countryman is the largest yet, pr...</td>\n",
       "      <td>Is the ad creative/clever?</td>\n",
       "      <td>0</td>\n",
       "    </tr>\n",
       "    <tr>\n",
       "      <th>17</th>\n",
       "      <td>1471363</td>\n",
       "      <td>It's another pure gray morning. Don't know wha...</td>\n",
       "      <td>The new MINI Countryman is the largest yet, pr...</td>\n",
       "      <td>Is the ad intended to be funny? (Note: You may...</td>\n",
       "      <td>0</td>\n",
       "    </tr>\n",
       "    <tr>\n",
       "      <th>18</th>\n",
       "      <td>1471363</td>\n",
       "      <td>It's another pure gray morning. Don't know wha...</td>\n",
       "      <td>The new MINI Countryman is the largest yet, pr...</td>\n",
       "      <td>Does this ad provide sensory stimulation (e.g....</td>\n",
       "      <td>1</td>\n",
       "    </tr>\n",
       "    <tr>\n",
       "      <th>19</th>\n",
       "      <td>1471363</td>\n",
       "      <td>It's another pure gray morning. Don't know wha...</td>\n",
       "      <td>The new MINI Countryman is the largest yet, pr...</td>\n",
       "      <td>Is the ad visually pleasing?</td>\n",
       "      <td>1</td>\n",
       "    </tr>\n",
       "    <tr>\n",
       "      <th>20</th>\n",
       "      <td>1471363</td>\n",
       "      <td>It's another pure gray morning. Don't know wha...</td>\n",
       "      <td>The new MINI Countryman is the largest yet, pr...</td>\n",
       "      <td>Does the ad have cute elements like animals, b...</td>\n",
       "      <td>0</td>\n",
       "    </tr>\n",
       "    <tr>\n",
       "      <th>21</th>\n",
       "      <td>1488315</td>\n",
       "      <td>The end of civilization is upon us. Hold your ...</td>\n",
       "      <td>What would you do if the end of the world was ...</td>\n",
       "      <td>Is there a call to go online (e.g., shop onlin...</td>\n",
       "      <td>0</td>\n",
       "    </tr>\n",
       "    <tr>\n",
       "      <th>22</th>\n",
       "      <td>1488315</td>\n",
       "      <td>The end of civilization is upon us. Hold your ...</td>\n",
       "      <td>What would you do if the end of the world was ...</td>\n",
       "      <td>Is there online contact information provided (...</td>\n",
       "      <td>0</td>\n",
       "    </tr>\n",
       "    <tr>\n",
       "      <th>23</th>\n",
       "      <td>1488315</td>\n",
       "      <td>The end of civilization is upon us. Hold your ...</td>\n",
       "      <td>What would you do if the end of the world was ...</td>\n",
       "      <td>Is there a visual or verbal call to purchase (...</td>\n",
       "      <td>0</td>\n",
       "    </tr>\n",
       "    <tr>\n",
       "      <th>24</th>\n",
       "      <td>1488315</td>\n",
       "      <td>The end of civilization is upon us. Hold your ...</td>\n",
       "      <td>What would you do if the end of the world was ...</td>\n",
       "      <td>Does the ad portray a sense of urgency to act ...</td>\n",
       "      <td>0</td>\n",
       "    </tr>\n",
       "    <tr>\n",
       "      <th>25</th>\n",
       "      <td>1488315</td>\n",
       "      <td>The end of civilization is upon us. Hold your ...</td>\n",
       "      <td>What would you do if the end of the world was ...</td>\n",
       "      <td>Is there an incentive to buy (e.g., a discount...</td>\n",
       "      <td>0</td>\n",
       "    </tr>\n",
       "    <tr>\n",
       "      <th>26</th>\n",
       "      <td>1488315</td>\n",
       "      <td>The end of civilization is upon us. Hold your ...</td>\n",
       "      <td>What would you do if the end of the world was ...</td>\n",
       "      <td>Is there offline contact information provided ...</td>\n",
       "      <td>0</td>\n",
       "    </tr>\n",
       "    <tr>\n",
       "      <th>27</th>\n",
       "      <td>1488315</td>\n",
       "      <td>The end of civilization is upon us. Hold your ...</td>\n",
       "      <td>What would you do if the end of the world was ...</td>\n",
       "      <td>Is there mention of something free?</td>\n",
       "      <td>0</td>\n",
       "    </tr>\n",
       "  </tbody>\n",
       "</table>\n",
       "</div>"
      ],
      "text/plain": [
       "         ID                                             speech  \\\n",
       "0   1471363  It's another pure gray morning. Don't know wha...   \n",
       "1   1471363  It's another pure gray morning. Don't know wha...   \n",
       "2   1471363  It's another pure gray morning. Don't know wha...   \n",
       "3   1471363  It's another pure gray morning. Don't know wha...   \n",
       "4   1471363  It's another pure gray morning. Don't know wha...   \n",
       "5   1471363  It's another pure gray morning. Don't know wha...   \n",
       "6   1471363  It's another pure gray morning. Don't know wha...   \n",
       "7   1471363  It's another pure gray morning. Don't know wha...   \n",
       "8   1471363  It's another pure gray morning. Don't know wha...   \n",
       "9   1471363  It's another pure gray morning. Don't know wha...   \n",
       "10  1471363  It's another pure gray morning. Don't know wha...   \n",
       "11  1471363  It's another pure gray morning. Don't know wha...   \n",
       "12  1471363  It's another pure gray morning. Don't know wha...   \n",
       "13  1471363  It's another pure gray morning. Don't know wha...   \n",
       "14  1471363  It's another pure gray morning. Don't know wha...   \n",
       "15  1471363  It's another pure gray morning. Don't know wha...   \n",
       "16  1471363  It's another pure gray morning. Don't know wha...   \n",
       "17  1471363  It's another pure gray morning. Don't know wha...   \n",
       "18  1471363  It's another pure gray morning. Don't know wha...   \n",
       "19  1471363  It's another pure gray morning. Don't know wha...   \n",
       "20  1471363  It's another pure gray morning. Don't know wha...   \n",
       "21  1488315  The end of civilization is upon us. Hold your ...   \n",
       "22  1488315  The end of civilization is upon us. Hold your ...   \n",
       "23  1488315  The end of civilization is upon us. Hold your ...   \n",
       "24  1488315  The end of civilization is upon us. Hold your ...   \n",
       "25  1488315  The end of civilization is upon us. Hold your ...   \n",
       "26  1488315  The end of civilization is upon us. Hold your ...   \n",
       "27  1488315  The end of civilization is upon us. Hold your ...   \n",
       "\n",
       "                                          description  \\\n",
       "0   The new MINI Countryman is the largest yet, pr...   \n",
       "1   The new MINI Countryman is the largest yet, pr...   \n",
       "2   The new MINI Countryman is the largest yet, pr...   \n",
       "3   The new MINI Countryman is the largest yet, pr...   \n",
       "4   The new MINI Countryman is the largest yet, pr...   \n",
       "5   The new MINI Countryman is the largest yet, pr...   \n",
       "6   The new MINI Countryman is the largest yet, pr...   \n",
       "7   The new MINI Countryman is the largest yet, pr...   \n",
       "8   The new MINI Countryman is the largest yet, pr...   \n",
       "9   The new MINI Countryman is the largest yet, pr...   \n",
       "10  The new MINI Countryman is the largest yet, pr...   \n",
       "11  The new MINI Countryman is the largest yet, pr...   \n",
       "12  The new MINI Countryman is the largest yet, pr...   \n",
       "13  The new MINI Countryman is the largest yet, pr...   \n",
       "14  The new MINI Countryman is the largest yet, pr...   \n",
       "15  The new MINI Countryman is the largest yet, pr...   \n",
       "16  The new MINI Countryman is the largest yet, pr...   \n",
       "17  The new MINI Countryman is the largest yet, pr...   \n",
       "18  The new MINI Countryman is the largest yet, pr...   \n",
       "19  The new MINI Countryman is the largest yet, pr...   \n",
       "20  The new MINI Countryman is the largest yet, pr...   \n",
       "21  What would you do if the end of the world was ...   \n",
       "22  What would you do if the end of the world was ...   \n",
       "23  What would you do if the end of the world was ...   \n",
       "24  What would you do if the end of the world was ...   \n",
       "25  What would you do if the end of the world was ...   \n",
       "26  What would you do if the end of the world was ...   \n",
       "27  What would you do if the end of the world was ...   \n",
       "\n",
       "                                             question  label  \n",
       "0   Is there a call to go online (e.g., shop onlin...      0  \n",
       "1   Is there online contact information provided (...      1  \n",
       "2   Is there a visual or verbal call to purchase (...      0  \n",
       "3   Does the ad portray a sense of urgency to act ...      0  \n",
       "4   Is there an incentive to buy (e.g., a discount...      0  \n",
       "5   Is there offline contact information provided ...      0  \n",
       "6                Is there mention of something free?       0  \n",
       "7   Does the ad mention at least one specific prod...      1  \n",
       "8   Is there any verbal or visual mention of the p...      0  \n",
       "9   Does the ad show the brand (logo, brand name) ...      1  \n",
       "10  Does the ad show the brand or trademark exactl...      1  \n",
       "11  Is the ad intended to affect the viewer emotio...      1  \n",
       "12  Does the ad give you a positive feeling about ...      1  \n",
       "13  Does the ad have a story arc, with a beginning...      1  \n",
       "14  Does the ad have a reversal of fortune, where ...      0  \n",
       "15            Does the ad have relatable characters?       1  \n",
       "16                         Is the ad creative/clever?      0  \n",
       "17  Is the ad intended to be funny? (Note: You may...      0  \n",
       "18  Does this ad provide sensory stimulation (e.g....      1  \n",
       "19                       Is the ad visually pleasing?      1  \n",
       "20  Does the ad have cute elements like animals, b...      0  \n",
       "21  Is there a call to go online (e.g., shop onlin...      0  \n",
       "22  Is there online contact information provided (...      0  \n",
       "23  Is there a visual or verbal call to purchase (...      0  \n",
       "24  Does the ad portray a sense of urgency to act ...      0  \n",
       "25  Is there an incentive to buy (e.g., a discount...      0  \n",
       "26  Is there offline contact information provided ...      0  \n",
       "27               Is there mention of something free?       0  "
      ]
     },
     "execution_count": 136,
     "metadata": {},
     "output_type": "execute_result"
    }
   ],
   "source": [
    "long_form_df.head(28)"
   ]
  },
  {
   "cell_type": "code",
   "execution_count": 137,
   "metadata": {},
   "outputs": [],
   "source": [
    "grouped_df = long_form_df.groupby(\"ID\").agg({\n",
    "    \"speech\": \"first\",  # Take the first unique speech for each ID\n",
    "    \"description\": \"first\",  # Take the first unique description for each ID\n",
    "    \"label\": list       # Collect all labels into a list for each ID\n",
    "}).reset_index()\n",
    "\n",
    "# Rename columns as needed\n",
    "grouped_df.columns = [\"ID\", \"Speech\", \"description\", \"Labels\"]\n"
   ]
  },
  {
   "cell_type": "code",
   "execution_count": 138,
   "metadata": {},
   "outputs": [
    {
     "data": {
      "text/html": [
       "<div>\n",
       "<style scoped>\n",
       "    .dataframe tbody tr th:only-of-type {\n",
       "        vertical-align: middle;\n",
       "    }\n",
       "\n",
       "    .dataframe tbody tr th {\n",
       "        vertical-align: top;\n",
       "    }\n",
       "\n",
       "    .dataframe thead th {\n",
       "        text-align: right;\n",
       "    }\n",
       "</style>\n",
       "<table border=\"1\" class=\"dataframe\">\n",
       "  <thead>\n",
       "    <tr style=\"text-align: right;\">\n",
       "      <th></th>\n",
       "      <th>ID</th>\n",
       "      <th>Speech</th>\n",
       "      <th>description</th>\n",
       "      <th>Labels</th>\n",
       "    </tr>\n",
       "  </thead>\n",
       "  <tbody>\n",
       "    <tr>\n",
       "      <th>0</th>\n",
       "      <td>1471363</td>\n",
       "      <td>It's another pure gray morning. Don't know wha...</td>\n",
       "      <td>The new MINI Countryman is the largest yet, pr...</td>\n",
       "      <td>[0, 1, 0, 0, 0, 0, 0, 1, 0, 1, 1, 1, 1, 1, 0, ...</td>\n",
       "    </tr>\n",
       "    <tr>\n",
       "      <th>1</th>\n",
       "      <td>1488315</td>\n",
       "      <td>The end of civilization is upon us. Hold your ...</td>\n",
       "      <td>What would you do if the end of the world was ...</td>\n",
       "      <td>[0, 0, 0, 0, 0, 0, 0, 1, 0, 1, 1, 1, 1, 1, 0, ...</td>\n",
       "    </tr>\n",
       "    <tr>\n",
       "      <th>2</th>\n",
       "      <td>1526213</td>\n",
       "      <td>Audi presens can help prepare for and in some ...</td>\n",
       "      <td>As a man speeds down a country road in his Aud...</td>\n",
       "      <td>[0, 0, 0, 0, 1, 1, 0, 1, 1, 1, 1, 0, 1, 0, 0, ...</td>\n",
       "    </tr>\n",
       "    <tr>\n",
       "      <th>3</th>\n",
       "      <td>1548815</td>\n",
       "      <td>The new Honda Odyssey has tons of available sm...</td>\n",
       "      <td>On an otherwise peaceful day, two giant monste...</td>\n",
       "      <td>[0, 0, 0, 0, 0, 0, 0, 1, 0, 1, 1, 1, 1, 1, 0, ...</td>\n",
       "    </tr>\n",
       "    <tr>\n",
       "      <th>4</th>\n",
       "      <td>1624211</td>\n",
       "      <td>Hi guys. So this is the all new Chevy Equinox....</td>\n",
       "      <td>Chevy's spokesperson lists off all the feature...</td>\n",
       "      <td>[0, 1, 0, 0, 0, 0, 0, 1, 0, 1, 1, 1, 1, 0, 0, ...</td>\n",
       "    </tr>\n",
       "  </tbody>\n",
       "</table>\n",
       "</div>"
      ],
      "text/plain": [
       "        ID                                             Speech  \\\n",
       "0  1471363  It's another pure gray morning. Don't know wha...   \n",
       "1  1488315  The end of civilization is upon us. Hold your ...   \n",
       "2  1526213  Audi presens can help prepare for and in some ...   \n",
       "3  1548815  The new Honda Odyssey has tons of available sm...   \n",
       "4  1624211  Hi guys. So this is the all new Chevy Equinox....   \n",
       "\n",
       "                                         description  \\\n",
       "0  The new MINI Countryman is the largest yet, pr...   \n",
       "1  What would you do if the end of the world was ...   \n",
       "2  As a man speeds down a country road in his Aud...   \n",
       "3  On an otherwise peaceful day, two giant monste...   \n",
       "4  Chevy's spokesperson lists off all the feature...   \n",
       "\n",
       "                                              Labels  \n",
       "0  [0, 1, 0, 0, 0, 0, 0, 1, 0, 1, 1, 1, 1, 1, 0, ...  \n",
       "1  [0, 0, 0, 0, 0, 0, 0, 1, 0, 1, 1, 1, 1, 1, 0, ...  \n",
       "2  [0, 0, 0, 0, 1, 1, 0, 1, 1, 1, 1, 0, 1, 0, 0, ...  \n",
       "3  [0, 0, 0, 0, 0, 0, 0, 1, 0, 1, 1, 1, 1, 1, 0, ...  \n",
       "4  [0, 1, 0, 0, 0, 0, 0, 1, 0, 1, 1, 1, 1, 0, 0, ...  "
      ]
     },
     "execution_count": 138,
     "metadata": {},
     "output_type": "execute_result"
    }
   ],
   "source": [
    "grouped_df.head()"
   ]
  },
  {
   "cell_type": "code",
   "execution_count": 139,
   "metadata": {},
   "outputs": [
    {
     "data": {
      "text/plain": [
       "(150, 4)"
      ]
     },
     "execution_count": 139,
     "metadata": {},
     "output_type": "execute_result"
    }
   ],
   "source": [
    "grouped_df.shape"
   ]
  },
  {
   "cell_type": "code",
   "execution_count": 140,
   "metadata": {},
   "outputs": [],
   "source": [
    "grouped_df.to_excel(\"data/long_form_data1.xlsx\")"
   ]
  },
  {
   "cell_type": "code",
   "execution_count": null,
   "metadata": {},
   "outputs": [],
   "source": []
  }
 ],
 "metadata": {
  "kernelspec": {
   "display_name": ".venv",
   "language": "python",
   "name": "python3"
  },
  "language_info": {
   "codemirror_mode": {
    "name": "ipython",
    "version": 3
   },
   "file_extension": ".py",
   "mimetype": "text/x-python",
   "name": "python",
   "nbconvert_exporter": "python",
   "pygments_lexer": "ipython3",
   "version": "3.11.0"
  }
 },
 "nbformat": 4,
 "nbformat_minor": 2
}
