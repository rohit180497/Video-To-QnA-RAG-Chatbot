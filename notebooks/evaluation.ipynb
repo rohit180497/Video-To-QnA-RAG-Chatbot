{
 "cells": [
  {
   "cell_type": "code",
   "execution_count": 5,
   "metadata": {},
   "outputs": [],
   "source": [
    "import pandas as pd\n",
    "import numpy as np\n",
    "from sklearn.metrics import accuracy_score, f1_score, precision_score, recall_score, roc_auc_score"
   ]
  },
  {
   "cell_type": "code",
   "execution_count": 53,
   "metadata": {},
   "outputs": [
    {
     "data": {
      "text/plain": [
       "(150, 24)"
      ]
     },
     "execution_count": 53,
     "metadata": {},
     "output_type": "execute_result"
    }
   ],
   "source": [
    "main_df = pd.read_excel('data/final_data.xlsx', engine= 'openpyxl')\n",
    "main_df.shape"
   ]
  },
  {
   "cell_type": "code",
   "execution_count": 54,
   "metadata": {},
   "outputs": [],
   "source": [
    "# main_df.head()"
   ]
  },
  {
   "cell_type": "code",
   "execution_count": 55,
   "metadata": {},
   "outputs": [],
   "source": [
    "# Reading results from different approaches\n",
    "\n",
    "# approach1 = pd.read_excel('results/BERT_results_with_speech_and_description.xlsx')\n",
    "# approach2 = pd.read_excel('results/BERT_results_with_speech.xlsx')\n",
    "approach3 = pd.read_excel('results/RAG_approach.xlsx')"
   ]
  },
  {
   "cell_type": "code",
   "execution_count": 56,
   "metadata": {},
   "outputs": [
    {
     "name": "stderr",
     "output_type": "stream",
     "text": [
      "C:\\Users\\rohit\\AppData\\Local\\Temp\\ipykernel_18628\\2355099060.py:3: FutureWarning: DataFrame.applymap has been deprecated. Use DataFrame.map instead.\n",
      "  df = df.applymap(lambda s: s.lower() if type(s) == str else s)\n",
      "C:\\Users\\rohit\\AppData\\Local\\Temp\\ipykernel_18628\\2355099060.py:4: FutureWarning: Downcasting behavior in `replace` is deprecated and will be removed in a future version. To retain the old behavior, explicitly call `result.infer_objects(copy=False)`. To opt-in to the future behavior, set `pd.set_option('future.no_silent_downcasting', True)`\n",
      "  binary_df = df.replace({\"yes\": 1, \"no\": 0})\n"
     ]
    }
   ],
   "source": [
    "def convert_to_binary(df):\n",
    "    # Convert all string values to lowercase\n",
    "    df = df.applymap(lambda s: s.lower() if type(s) == str else s)\n",
    "    binary_df = df.replace({\"yes\": 1, \"no\": 0})\n",
    "    return binary_df\n",
    "\n",
    "ground_truth_binary = convert_to_binary(main_df)\n",
    "predicted_binary = convert_to_binary(approach2)"
   ]
  },
  {
   "cell_type": "code",
   "execution_count": 57,
   "metadata": {},
   "outputs": [],
   "source": [
    "# predicted_binary.head()"
   ]
  },
  {
   "cell_type": "code",
   "execution_count": 58,
   "metadata": {},
   "outputs": [],
   "source": [
    "predicted_binary = predicted_binary.iloc[:,1:-6]\n",
    "ground_truth_binary = ground_truth_binary.iloc[:,:-2]  # Exclude 'creative_data_id' and 'language"
   ]
  },
  {
   "cell_type": "code",
   "execution_count": 59,
   "metadata": {},
   "outputs": [
    {
     "name": "stdout",
     "output_type": "stream",
     "text": [
      "range(1, 22)\n"
     ]
    }
   ],
   "source": [
    "column_indices = range(1, ground_truth_binary.shape[1])\n",
    "print(column_indices)"
   ]
  },
  {
   "cell_type": "code",
   "execution_count": 60,
   "metadata": {},
   "outputs": [],
   "source": [
    "metrics = {}\n",
    "column_indices = range(1, ground_truth_binary.shape[1])  \n",
    "\n",
    "for idx in column_indices:\n",
    "    y_true = ground_truth_binary.iloc[:, idx]\n",
    "    y_pred = predicted_binary.iloc[:, idx]\n",
    "    \n",
    "    precision = precision_score(y_true, y_pred)\n",
    "    recall = recall_score(y_true, y_pred)\n",
    "    f1 = f1_score(y_true, y_pred)\n",
    "    accuracy = accuracy_score(y_true, y_pred)\n",
    "    roc_auc = roc_auc_score(y_true, y_pred)\n",
    "    agreement = (y_true == y_pred).mean()  # Agreement percentage\n",
    "\n",
    "    metrics[ground_truth_binary.columns[idx]] = {\n",
    "        \"Precision\": precision,\n",
    "        \"Recall\": recall,\n",
    "        \"F1-Score\": f1,\n",
    "        \"Accuracy\": accuracy,\n",
    "        \"ROC AUC\": roc_auc,\n",
    "        \"Agreement Percentage\": agreement\n",
    "    }\n",
    "\n",
    "metrics_df = pd.DataFrame(metrics).T"
   ]
  },
  {
   "cell_type": "code",
   "execution_count": 61,
   "metadata": {},
   "outputs": [],
   "source": [
    "metrics_df.to_clipboard()"
   ]
  },
  {
   "cell_type": "code",
   "execution_count": null,
   "metadata": {},
   "outputs": [],
   "source": []
  }
 ],
 "metadata": {
  "kernelspec": {
   "display_name": ".venv",
   "language": "python",
   "name": "python3"
  },
  "language_info": {
   "codemirror_mode": {
    "name": "ipython",
    "version": 3
   },
   "file_extension": ".py",
   "mimetype": "text/x-python",
   "name": "python",
   "nbconvert_exporter": "python",
   "pygments_lexer": "ipython3",
   "version": "3.11.0"
  }
 },
 "nbformat": 4,
 "nbformat_minor": 2
}
